{
  "metadata": {
    "kernelspec": {
      "name": "python3",
      "display_name": "Python 3 (ipykernel)",
      "language": "python"
    },
    "colab": {
      "provenance": [],
      "include_colab_link": true
    }
  },
  "nbformat": 4,
  "nbformat_minor": 0,
  "cells": [
    {
      "cell_type": "markdown",
      "metadata": {
        "id": "view-in-github",
        "colab_type": "text"
      },
      "source": [
        "<a href=\"https://colab.research.google.com/github/RaynerMorla21/Cervical-Cancer-Risk-Factors/blob/main/PythonTutorial.ipynb\" target=\"_parent\"><img src=\"https://colab.research.google.com/assets/colab-badge.svg\" alt=\"Open In Colab\"/></a>"
      ]
    },
    {
      "cell_type": "markdown",
      "source": [
        "You may watch this [Python Tutorial Video](https://youtu.be/kqtD5dpn9C8?feature=shared&t=249) to help you understand each section."
      ],
      "metadata": {
        "id": "pAoGLOZswiT9"
      }
    },
    {
      "cell_type": "markdown",
      "metadata": {
        "id": "B8hv4ScS0D5H"
      },
      "source": [
        "To run the code in individual sections, hover the mouse on the left side of the code space and click the *play/run* button.\n",
        "You can also use keys *\"Shift + Return\"*"
      ]
    },
    {
      "cell_type": "code",
      "execution_count": 1,
      "metadata": {
        "id": "WdQe89k00D5L",
        "colab": {
          "base_uri": "https://localhost:8080/"
        },
        "outputId": "36dfc5f5-ddb4-49c9-ffd7-5f6557cc1a58"
      },
      "outputs": [
        {
          "output_type": "stream",
          "name": "stdout",
          "text": [
            "Hello World!\n"
          ]
        }
      ],
      "source": [
        "print(\"Hello World!\")"
      ]
    },
    {
      "cell_type": "markdown",
      "metadata": {
        "id": "8uSILrXO0D5N"
      },
      "source": [
        "# **Variables**"
      ]
    },
    {
      "cell_type": "code",
      "execution_count": 3,
      "metadata": {
        "id": "Q1WHyiLd0D5N",
        "colab": {
          "base_uri": "https://localhost:8080/"
        },
        "outputId": "bb24a02e-7702-42ea-fc08-9dcbe8de6c08"
      },
      "outputs": [
        {
          "output_type": "stream",
          "name": "stdout",
          "text": [
            "20\n"
          ]
        }
      ],
      "source": [
        "age = 20\n",
        "print(age)"
      ]
    },
    {
      "cell_type": "markdown",
      "metadata": {
        "id": "YI09qmY90D5O"
      },
      "source": [
        "*Practice*: Change the value of age and print it out in the following space."
      ]
    },
    {
      "cell_type": "code",
      "execution_count": 4,
      "metadata": {
        "id": "e7IA0uQv0D5O",
        "colab": {
          "base_uri": "https://localhost:8080/"
        },
        "outputId": "fe6e3d72-409b-450e-e3f9-56fe020e8b73"
      },
      "outputs": [
        {
          "output_type": "stream",
          "name": "stdout",
          "text": [
            "45\n"
          ]
        }
      ],
      "source": [
        "age = 45\n",
        "print(age)"
      ]
    },
    {
      "cell_type": "markdown",
      "metadata": {
        "id": "mvvzgNWW0D5P"
      },
      "source": [
        "Deep Dive: different **types** of variables."
      ]
    },
    {
      "cell_type": "code",
      "execution_count": 5,
      "metadata": {
        "id": "qmBP-O5s0D5P",
        "colab": {
          "base_uri": "https://localhost:8080/"
        },
        "outputId": "cb325bd1-4706-4f1e-a3b1-75303fe3b63b"
      },
      "outputs": [
        {
          "output_type": "stream",
          "name": "stdout",
          "text": [
            "Mr. Doe is 20 years old\n"
          ]
        }
      ],
      "source": [
        "age = 20\n",
        "price = 19.99\n",
        "first_name = \"Mr. Doe\"\n",
        "is_online = True\n",
        "print(first_name + \" is \" + str(age) + \" years old\")"
      ]
    },
    {
      "cell_type": "markdown",
      "metadata": {
        "id": "n7kjA71e0D5Q"
      },
      "source": [
        "*Exercise*: Check in a new patient named James Smith, who is 20 years old."
      ]
    },
    {
      "cell_type": "code",
      "execution_count": 41,
      "metadata": {
        "id": "5XF4cbot0D5Q",
        "colab": {
          "base_uri": "https://localhost:8080/"
        },
        "outputId": "6624f496-3b48-4fe2-b0ce-35ddd5a01ef6"
      },
      "outputs": [
        {
          "output_type": "stream",
          "name": "stdout",
          "text": [
            "James Smith is 20 years old\n"
          ]
        }
      ],
      "source": [
        "age = 20\n",
        "first_name = \"James\"\n",
        "last_name = \"Smith\"\n",
        "print(first_name + \" \"  +  last_name + \" is \" + str(age) + \" years old\")"
      ]
    },
    {
      "cell_type": "markdown",
      "metadata": {
        "id": "01w9ZkBB0D5R"
      },
      "source": [
        "**Input**"
      ]
    },
    {
      "cell_type": "code",
      "execution_count": 15,
      "metadata": {
        "id": "bmpRHGKv0D5R",
        "colab": {
          "base_uri": "https://localhost:8080/"
        },
        "outputId": "7e697d70-445a-4981-a82c-6ced970bcde5"
      },
      "outputs": [
        {
          "output_type": "stream",
          "name": "stdout",
          "text": [
            "what is your name Rayner\n",
            "Hello Rayner\n"
          ]
        }
      ],
      "source": [
        "name = input(\"what is your name \")\n",
        "print(\"Hello \" + name)"
      ]
    },
    {
      "cell_type": "markdown",
      "metadata": {
        "id": "QqJKQsIa0D5R"
      },
      "source": [
        "**Type conversion**"
      ]
    },
    {
      "cell_type": "markdown",
      "metadata": {
        "id": "nErkDCvX0D5R"
      },
      "source": [
        "1. Error: the input is read in as a string, which cannot be operated on with a number."
      ]
    },
    {
      "cell_type": "code",
      "execution_count": 45,
      "metadata": {
        "id": "Qb6Bwyme0D5S",
        "colab": {
          "base_uri": "https://localhost:8080/",
          "height": 193
        },
        "outputId": "8870dff9-35eb-4bd1-f4d0-cb335a817746"
      },
      "outputs": [
        {
          "name": "stdout",
          "output_type": "stream",
          "text": [
            "Enter your birth year 2002\n"
          ]
        },
        {
          "output_type": "error",
          "ename": "TypeError",
          "evalue": "unsupported operand type(s) for -: 'int' and 'str'",
          "traceback": [
            "\u001b[0;31m---------------------------------------------------------------------------\u001b[0m",
            "\u001b[0;31mTypeError\u001b[0m                                 Traceback (most recent call last)",
            "\u001b[0;32m<ipython-input-45-d7d9c60fdd9c>\u001b[0m in \u001b[0;36m<cell line: 2>\u001b[0;34m()\u001b[0m\n\u001b[1;32m      1\u001b[0m \u001b[0mbirth_year\u001b[0m \u001b[0;34m=\u001b[0m \u001b[0minput\u001b[0m\u001b[0;34m(\u001b[0m\u001b[0;34m\"Enter your birth year \"\u001b[0m\u001b[0;34m)\u001b[0m\u001b[0;34m\u001b[0m\u001b[0;34m\u001b[0m\u001b[0m\n\u001b[0;32m----> 2\u001b[0;31m \u001b[0mage\u001b[0m \u001b[0;34m=\u001b[0m \u001b[0;36m2024\u001b[0m \u001b[0;34m-\u001b[0m \u001b[0;34m(\u001b[0m\u001b[0mbirth_year\u001b[0m\u001b[0;34m)\u001b[0m\u001b[0;34m\u001b[0m\u001b[0;34m\u001b[0m\u001b[0m\n\u001b[0m\u001b[1;32m      3\u001b[0m \u001b[0mprint\u001b[0m \u001b[0;34m(\u001b[0m\u001b[0mage\u001b[0m\u001b[0;34m)\u001b[0m\u001b[0;34m\u001b[0m\u001b[0;34m\u001b[0m\u001b[0m\n",
            "\u001b[0;31mTypeError\u001b[0m: unsupported operand type(s) for -: 'int' and 'str'"
          ]
        }
      ],
      "source": [
        "birth_year = input(\"Enter your birth year \")\n",
        "age = 2024 - (birth_year)\n",
        "print (age)"
      ]
    },
    {
      "cell_type": "markdown",
      "metadata": {
        "id": "e6DmGJgK0D5S"
      },
      "source": [
        "Fixing the code: convert string input to integer"
      ]
    },
    {
      "cell_type": "code",
      "execution_count": 43,
      "metadata": {
        "id": "KJ1toe5Q0D5S",
        "colab": {
          "base_uri": "https://localhost:8080/"
        },
        "outputId": "e46439ac-d9e6-425c-c303-91bbd31aacc0"
      },
      "outputs": [
        {
          "output_type": "stream",
          "name": "stdout",
          "text": [
            "Enter your birth year 2002\n",
            "22\n"
          ]
        }
      ],
      "source": [
        "birth_year = input(\"Enter your birth year \")\n",
        "age = 2024 - int(birth_year)#very simple the reason why it didnt work in the previous cell was beacuse it was a string not an integer\n",
        "print (age)"
      ]
    },
    {
      "cell_type": "markdown",
      "metadata": {
        "id": "mwJ9zOke0D5S"
      },
      "source": [
        "Exercise: Basic calculator. Adding two numbers"
      ]
    },
    {
      "cell_type": "code",
      "execution_count": 23,
      "metadata": {
        "id": "wnsFoD8n0D5S",
        "colab": {
          "base_uri": "https://localhost:8080/"
        },
        "outputId": "0361f5d2-2fb5-4b34-e864-7e3160bef74d"
      },
      "outputs": [
        {
          "output_type": "execute_result",
          "data": {
            "text/plain": [
              "30.1"
            ]
          },
          "metadata": {},
          "execution_count": 23
        }
      ],
      "source": [
        "10.1 + 20 #this could solve the question"
      ]
    },
    {
      "cell_type": "code",
      "source": [
        "first = input(\"First: \")\n",
        "second = input(\"Second: \")\n",
        "sum = float(first) + float(second)\n",
        "print(\"Sum: \" + str(sum)) # the reason i also did this ways was beacuse i watched the video therofore i know the point of the excercise was to understand that we need to be clear about the variables we are trying to add"
      ],
      "metadata": {
        "colab": {
          "base_uri": "https://localhost:8080/"
        },
        "id": "VnH2e3tIDsTy",
        "outputId": "9d14ad67-b87f-4a85-87b6-b7b6b87eaa70"
      },
      "execution_count": 24,
      "outputs": [
        {
          "output_type": "stream",
          "name": "stdout",
          "text": [
            "First: 10.1\n",
            "Second: 20\n",
            "Sum: 30.1\n"
          ]
        }
      ]
    },
    {
      "cell_type": "markdown",
      "metadata": {
        "id": "suJKknSI0D5S"
      },
      "source": [
        "**Strings**"
      ]
    },
    {
      "cell_type": "code",
      "execution_count": 44,
      "metadata": {
        "id": "c2CLRMHD0D5T",
        "colab": {
          "base_uri": "https://localhost:8080/"
        },
        "outputId": "67cffdd6-63ab-48f0-9ef4-ddb4c8351575"
      },
      "outputs": [
        {
          "output_type": "stream",
          "name": "stdout",
          "text": [
            "6\n"
          ]
        }
      ],
      "source": [
        "# The string class contains a lot of built-in methods\n",
        "course = 'Discover AI'#each letter has a value 0123456 thereforewhen we use the funtion find it finds its numerical value\n",
        "print(course.find('e'))"
      ]
    },
    {
      "cell_type": "code",
      "source": [
        "course = 'Discover AI'\n",
        "print(course.replace('AI', 'Machine Learning'))"
      ],
      "metadata": {
        "colab": {
          "base_uri": "https://localhost:8080/"
        },
        "id": "TTVkkyOYEYJz",
        "outputId": "6ef4d591-90b8-4369-9b93-e9227d05edb9"
      },
      "execution_count": 31,
      "outputs": [
        {
          "output_type": "stream",
          "name": "stdout",
          "text": [
            "Discover Machine Learning\n"
          ]
        }
      ]
    },
    {
      "cell_type": "markdown",
      "metadata": {
        "id": "MA22MxtB0D5T"
      },
      "source": [
        "# **Operators**"
      ]
    },
    {
      "cell_type": "markdown",
      "metadata": {
        "id": "7FBHmhnX0D5T"
      },
      "source": [
        "1. Arthmetic Operators"
      ]
    },
    {
      "cell_type": "code",
      "execution_count": 32,
      "metadata": {
        "id": "BCOfTNbw0D5T",
        "colab": {
          "base_uri": "https://localhost:8080/"
        },
        "outputId": "e3956478-b45d-4cf7-e0ee-c8d42d2857b9"
      },
      "outputs": [
        {
          "output_type": "stream",
          "name": "stdout",
          "text": [
            "10 + 3 = 13\n",
            "10 - 3 = 7\n",
            "10 * 3 = 30\n",
            "10 / 3 = 3.3333333333333335\n",
            "10 //3 = 3\n",
            "10 % 3 = 1\n",
            "10 ** 3 = 1000\n"
          ]
        }
      ],
      "source": [
        "# Addition\n",
        "print(\"10 + 3 = \" + str(10 + 3))\n",
        "\n",
        "# Subtraction\n",
        "print(\"10 - 3 = \" + str(10 - 3))\n",
        "\n",
        "# Multiplication\n",
        "print(\"10 * 3 = \" + str(10 * 3))\n",
        "\n",
        "# Division\n",
        "print(\"10 / 3 = \" + str(10 / 3))\n",
        "\n",
        "# Division with integer\n",
        "print(\"10 //3 = \" + str(10 // 3))\n",
        "\n",
        "# Modulus\n",
        "print(\"10 % 3 = \" + str(10 % 3))\n",
        "\n",
        "# Exponent\n",
        "print(\"10 ** 3 = \" + str(10 ** 3))"
      ]
    },
    {
      "cell_type": "code",
      "execution_count": 33,
      "metadata": {
        "id": "Ioj5xzEO0D5T",
        "colab": {
          "base_uri": "https://localhost:8080/"
        },
        "outputId": "d3d5cad0-d868-4691-aefb-bf2437ca88d2"
      },
      "outputs": [
        {
          "output_type": "stream",
          "name": "stdout",
          "text": [
            "13\n"
          ]
        }
      ],
      "source": [
        "# Augmented operators\n",
        "x = 10\n",
        "x += 3\n",
        "print(x)"
      ]
    },
    {
      "cell_type": "markdown",
      "metadata": {
        "id": "zMwZ5Am20D5U"
      },
      "source": [
        "Operator Precedence"
      ]
    },
    {
      "cell_type": "code",
      "execution_count": 34,
      "metadata": {
        "id": "B6lkR15J0D5U",
        "colab": {
          "base_uri": "https://localhost:8080/"
        },
        "outputId": "c31d57cc-cc2b-462f-ed4d-1abe17de31ad"
      },
      "outputs": [
        {
          "output_type": "stream",
          "name": "stdout",
          "text": [
            "16\n"
          ]
        }
      ],
      "source": [
        "x = 10 + 3 * 2\n",
        "print (x)"
      ]
    },
    {
      "cell_type": "markdown",
      "metadata": {
        "id": "nsyFJjAh0D5U"
      },
      "source": [
        "2. Comparison Operators"
      ]
    },
    {
      "cell_type": "code",
      "execution_count": 35,
      "metadata": {
        "id": "8W-PDhYW0D5U",
        "colab": {
          "base_uri": "https://localhost:8080/"
        },
        "outputId": "b5a06563-f63d-47c1-e679-183b6d150d24"
      },
      "outputs": [
        {
          "output_type": "stream",
          "name": "stdout",
          "text": [
            "10 > 3: True\n",
            "3 >= 3: True\n",
            "10 < 3: False\n",
            "10 <= 3: False\n",
            "10 == 3: False\n",
            "10 != 3: True\n"
          ]
        }
      ],
      "source": [
        "# They return boolean (True/False) solutions\n",
        "\n",
        "# Greater than\n",
        "print(\"10 > 3: \" + str(10 > 3))\n",
        "# Greater than or equal to\n",
        "print(\"3 >= 3: \" + str(10 >= 3))\n",
        "# Less than\n",
        "print(\"10 < 3: \" + str(10 < 3))\n",
        "# Less than or equal to\n",
        "print(\"10 <= 3: \" + str(10 <= 3))\n",
        "# Equal\n",
        "print(\"10 == 3: \" + str(10 == 3))\n",
        "# Not equal\n",
        "print(\"10 != 3: \" + str(10 != 3))\n"
      ]
    },
    {
      "cell_type": "markdown",
      "metadata": {
        "id": "EV4eb7UE0D5U"
      },
      "source": [
        "4. Logical Operators"
      ]
    },
    {
      "cell_type": "code",
      "execution_count": 36,
      "metadata": {
        "id": "C9Q1JeJa0D5V",
        "colab": {
          "base_uri": "https://localhost:8080/"
        },
        "outputId": "dbdb625d-b947-431e-b288-6bec82b99c41"
      },
      "outputs": [
        {
          "output_type": "stream",
          "name": "stdout",
          "text": [
            "Price between 10 and 30: True\n",
            "Price is either 10 or 30: False\n",
            "Price is less than 30: True\n"
          ]
        }
      ],
      "source": [
        "# Used for building complex rules and conditions\n",
        "\n",
        "# Using \"and\" check that a price is between two values\n",
        "price = 25\n",
        "print(\"Price between 10 and 30: \" + str(price > 10 and price < 30))\n",
        "\n",
        "# Using \"or\" check that a price is either of two values\n",
        "price = 25\n",
        "print(\"Price is either 10 or 30: \" + str(price == 10 or price == 30))\n",
        "\n",
        "# Using \"not\" check that a price is less than a value\n",
        "price = 25\n",
        "print(\"Price is less than 30: \" + str(not price > 30))"
      ]
    },
    {
      "cell_type": "markdown",
      "metadata": {
        "id": "dK_SfPYN0D5V"
      },
      "source": [
        "# **If Statements**"
      ]
    },
    {
      "cell_type": "code",
      "execution_count": 37,
      "metadata": {
        "id": "SmA_1N9H0D5V",
        "colab": {
          "base_uri": "https://localhost:8080/"
        },
        "outputId": "c35f1be8-c714-43f0-d551-f29aebe37f38"
      },
      "outputs": [
        {
          "output_type": "stream",
          "name": "stdout",
          "text": [
            "It's a hot day\n",
            "Drink plenty of water\n",
            "Done\n"
          ]
        }
      ],
      "source": [
        "# Used to make decisions\n",
        "\n",
        "# Print a message if the temperature is > 30\n",
        "temperature = 35\n",
        "if(temperature > 30):\n",
        "    print(\"It's a hot day\")\n",
        "    print(\"Drink plenty of water\")\n",
        "# Everything below will be outside of the conditional statement\n",
        "print (\"Done\")"
      ]
    },
    {
      "cell_type": "markdown",
      "metadata": {
        "id": "OYWzK6N50D5V"
      },
      "source": [
        "*Practice* Add a condition for printing \"It's a nice day\" if the temperature is between 20 and 30"
      ]
    },
    {
      "cell_type": "code",
      "execution_count": 38,
      "metadata": {
        "id": "hbFVUxvi0D5V"
      },
      "outputs": [],
      "source": [
        "temperature = 25\n",
        "if(temperature > 30):\n",
        "    print(\"It's a hot day\")\n",
        "    print(\"Drink plenty of water\")"
      ]
    },
    {
      "cell_type": "markdown",
      "metadata": {
        "id": "xBe8e1Nb0D5W"
      },
      "source": [
        "**Exercise**\n",
        "\n",
        "* Get weight as input\n",
        "* Get unit as input (Kgs or Lbs)\n",
        "* Display weight converted to the opposite unit\n",
        "\n"
      ]
    },
    {
      "cell_type": "code",
      "execution_count": 38,
      "metadata": {
        "id": "P8O5Iy280D5W"
      },
      "outputs": [],
      "source": []
    },
    {
      "cell_type": "markdown",
      "metadata": {
        "id": "vM29CBjQ0D5W"
      },
      "source": [
        "# **Loops**"
      ]
    },
    {
      "cell_type": "code",
      "execution_count": 40,
      "metadata": {
        "id": "fIPh2yj20D5W"
      },
      "outputs": [],
      "source": [
        "i = 1\n",
        "while i <= 1000:\n",
        "    print(i)\n",
        "    i = i + 1\n"
      ]
    },
    {
      "cell_type": "markdown",
      "metadata": {
        "id": "5hu8VWti0D5b"
      },
      "source": [
        "# **Lists**"
      ]
    },
    {
      "cell_type": "code",
      "execution_count": null,
      "metadata": {
        "id": "P5ueemzZ0D5b"
      },
      "outputs": [],
      "source": [
        "# list of names\n",
        "names = [\"Jane\", \"John\", \"Mary\", \"Sam\", \"Safi\"]\n",
        "print(names)\n",
        "\n",
        "# print the first three names\n",
        "\n",
        "# Add a name at the head of the list"
      ]
    },
    {
      "cell_type": "markdown",
      "metadata": {
        "id": "EEtQaHNA0D5b"
      },
      "source": [
        "List methods"
      ]
    },
    {
      "cell_type": "code",
      "execution_count": null,
      "metadata": {
        "id": "mQwR3Rb30D5b"
      },
      "outputs": [],
      "source": [
        "numbers = [1, 2, 3, 4, 5, 6]\n",
        "# Append\n",
        "\n",
        "# Insert\n",
        "\n",
        "# Remove\n",
        "\n",
        "# Clear\n",
        "\n",
        "# In\n",
        "print(10 in numbers)\n",
        "# Len\n",
        "print (len(numbers))"
      ]
    },
    {
      "cell_type": "markdown",
      "metadata": {
        "id": "R_4a5GU90D5b"
      },
      "source": [
        "## **For Loops**"
      ]
    },
    {
      "cell_type": "code",
      "execution_count": null,
      "metadata": {
        "id": "ld3kcMug0D5c"
      },
      "outputs": [],
      "source": [
        "numbers = [1, 2, 3, 4, 5,]\n",
        "for item in numbers:\n",
        "    print (item)"
      ]
    },
    {
      "cell_type": "markdown",
      "metadata": {
        "id": "TgV-8Ipv0D5c"
      },
      "source": [
        "**Range function**"
      ]
    },
    {
      "cell_type": "code",
      "execution_count": null,
      "metadata": {
        "id": "8QkaEe7E0D5c"
      },
      "outputs": [],
      "source": [
        "# The function can have 1 to 3 arguments.\n",
        "\n",
        "# 1. generate numbers up to a value\n",
        "numbers = range(5)\n",
        "for number in numbers:\n",
        "    print(number)"
      ]
    },
    {
      "cell_type": "markdown",
      "metadata": {
        "id": "IYOUYatV0D5c"
      },
      "source": [
        "**Tuples**"
      ]
    },
    {
      "cell_type": "code",
      "execution_count": null,
      "metadata": {
        "id": "T9eeEf4F0D5c"
      },
      "outputs": [],
      "source": [
        "# Immutable (unchangeable) elements\n",
        "numbers = (1, 2, 3)"
      ]
    }
  ]
}