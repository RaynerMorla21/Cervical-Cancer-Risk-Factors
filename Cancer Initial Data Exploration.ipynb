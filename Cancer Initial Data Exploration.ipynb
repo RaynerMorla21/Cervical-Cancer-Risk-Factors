{
 "cells": [
  {
   "cell_type": "code",
   "execution_count": null,
   "id": "a2db1d2b",
   "metadata": {},
   "outputs": [],
   "source": [
    "import pandas as pd\n",
    "import numpy as np\n",
    "\n",
    "cancerdata = pd.read_csv('risk_factors_cervical_cancer.csv')\n",
    "cancerdata"
   ]
  },
  {
   "cell_type": "code",
   "execution_count": null,
   "id": "eae35c0d",
   "metadata": {},
   "outputs": [],
   "source": [
    "cancerdata.isnull().sum()\n",
    "\n",
    "cancerdata.replace('?', np.nan, inplace=True)"
   ]
  },
  {
   "cell_type": "code",
   "execution_count": null,
   "id": "1f739bf8",
   "metadata": {},
   "outputs": [],
   "source": [
    "cancerdata = cancerdata.drop(columns=['STDs: Time since last diagnosis','STDs: Time since first diagnosis'])\n",
    "cancerdata"
   ]
  },
  {
   "cell_type": "code",
   "execution_count": null,
   "id": "90ec66e1",
   "metadata": {},
   "outputs": [],
   "source": [
    "cancerdata.info()\n",
    "\n",
    "cancerdata['Citology'].value_counts()"
   ]
  },
  {
   "cell_type": "code",
   "execution_count": null,
   "id": "eb5671dc",
   "metadata": {},
   "outputs": [],
   "source": [
    "def correct_columns(df, column):\n",
    "\n",
    "    df[column] = df[column].astype(float)\n",
    "    return df[column]"
   ]
  },
  {
   "cell_type": "code",
   "execution_count": null,
   "id": "3d16799f",
   "metadata": {},
   "outputs": [],
   "source": [
    "correct_columns(cancerdata,'STDs:HPV')\n",
    "correct_columns(cancerdata,'Num of pregnancies')\n",
    "correct_columns(cancerdata,'Smokes')\n",
    "correct_columns(cancerdata,'Smokes (years)')\n",
    "\n",
    "correct_columns(cancerdata,'Hormonal Contraceptives')\n",
    "correct_columns(cancerdata,'Hormonal Contraceptives (years)')\n",
    "correct_columns(cancerdata,'IUD')\n",
    "correct_columns(cancerdata,'IUD (years)')\n",
    "\n",
    "correct_columns(cancerdata,'STDs')\n",
    "correct_columns(cancerdata,'STDs (number)')\n",
    "correct_columns(cancerdata,'STDs:condylomatosis')\n",
    "correct_columns(cancerdata,'STDs:cervical condylomatosis')\n",
    "\n",
    "correct_columns(cancerdata,'STDs:vaginal condylomatosis')\n",
    "correct_columns(cancerdata,'STDs:vulvo-perineal condylomatosis')\n",
    "correct_columns(cancerdata,'STDs:syphilis')\n",
    "correct_columns(cancerdata,'STDs:pelvic inflammatory disease')\n",
    "\n",
    "correct_columns(cancerdata,'STDs:genital herpes')\n",
    "correct_columns(cancerdata,'STDs:molluscum contagiosum')\n",
    "correct_columns(cancerdata,'STDs:AIDS')\n",
    "correct_columns(cancerdata,'STDs:HIV')\n",
    "\n",
    "correct_columns(cancerdata,'STDs:Hepatitis B')\n",
    "correct_columns(cancerdata,'Number of sexual partners')\n",
    "correct_columns(cancerdata,'First sexual intercourse')\n",
    "correct_columns(cancerdata,'Smokes (packs/year)')"
   ]
  }
 ],
 "metadata": {
  "kernelspec": {
   "display_name": "Python 3 (ipykernel)",
   "language": "python",
   "name": "python3"
  },
  "language_info": {
   "codemirror_mode": {
    "name": "ipython",
    "version": 3
   },
   "file_extension": ".py",
   "mimetype": "text/x-python",
   "name": "python",
   "nbconvert_exporter": "python",
   "pygments_lexer": "ipython3",
   "version": "3.11.7"
  }
 },
 "nbformat": 4,
 "nbformat_minor": 5
}
