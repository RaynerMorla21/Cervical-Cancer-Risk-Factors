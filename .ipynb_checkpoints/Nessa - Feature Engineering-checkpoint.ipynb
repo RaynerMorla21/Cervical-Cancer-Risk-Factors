{
 "cells": [
  {
   "cell_type": "code",
   "execution_count": 1,
   "id": "41466eb8",
   "metadata": {},
   "outputs": [],
   "source": [
    "from sklearn.datasets import fetch_california_housing\n",
    "import pandas as pd\n",
    "import numpy as np\n",
    "pd.set_option('display.max_columns', None)\n",
    "from sklearn.feature_selection import chi2\n",
    "\n",
    "import matplotlib.pyplot as plt\n",
    "import seaborn as sns\n",
    "\n",
    "from sklearn.model_selection import train_test_split\n",
    "from sklearn.neighbors import KNeighborsClassifier\n",
    "\n",
    "from sklearn.preprocessing import MinMaxScaler, StandardScaler\n",
    "\n",
    "from sklearn.preprocessing import OneHotEncoder\n",
    "from sklearn.metrics import precision_score\n",
    "from sklearn.metrics import accuracy_score\n",
    "from sklearn.metrics import recall_score\n",
    "from sklearn.metrics import f1_score\n",
    "from sklearn.metrics import r2_score\n",
    "from sklearn.metrics import confusion_matrix"
   ]
  },
  {
   "cell_type": "code",
   "execution_count": 2,
   "id": "c023663d",
   "metadata": {},
   "outputs": [],
   "source": [
    "import pickle\n",
    "\n",
    "with open('cancerdata.pkl', 'rb') as file:\n",
    "    cancerdata= pickle.load(file)\n",
    "\n",
    "# dropped columns based on heatmap\n",
    "cancerdata.drop(columns=['STDs:AIDS','STDs:cervical condylomatosis','STDs','STDs (number)','Schiller'], inplace=True)\n",
    "\n",
    "# dropping the categorical columns that show no statistical significance based on chi test\n",
    "cancerdata.drop(columns=['Smokes','Hormonal Contraceptives','STDs:condylomatosis','STDs:vaginal condylomatosis',\n",
    "                         'STDs:syphilis','STDs:pelvic inflammatory disease','STDs:genital herpes',\n",
    "                         'STDs:molluscum contagiosum','STDs:HIV','STDs:Hepatitis B','Dx:CIN',\n",
    "                         'STDs:vulvo-perineal condylomatosis'], inplace=True)"
   ]
  },
  {
   "cell_type": "code",
   "execution_count": 4,
   "id": "2d9920c3",
   "metadata": {},
   "outputs": [
    {
     "name": "stdout",
     "output_type": "stream",
     "text": [
      "<class 'pandas.core.frame.DataFrame'>\n",
      "Index: 751 entries, 0 to 857\n",
      "Data columns (total 17 columns):\n",
      " #   Column                           Non-Null Count  Dtype  \n",
      "---  ------                           --------------  -----  \n",
      " 0   Age                              751 non-null    int64  \n",
      " 1   Number of sexual partners        751 non-null    float64\n",
      " 2   First sexual intercourse         751 non-null    float64\n",
      " 3   Num of pregnancies               751 non-null    float64\n",
      " 4   Smokes (years)                   751 non-null    float64\n",
      " 5   Smokes (packs/year)              751 non-null    float64\n",
      " 6   Hormonal Contraceptives (years)  751 non-null    float64\n",
      " 7   IUD                              751 non-null    float64\n",
      " 8   IUD (years)                      751 non-null    float64\n",
      " 9   STDs:HPV                         751 non-null    float64\n",
      " 10  STDs: Number of diagnosis        751 non-null    int64  \n",
      " 11  Dx:Cancer                        751 non-null    int64  \n",
      " 12  Dx:HPV                           751 non-null    int64  \n",
      " 13  Dx                               751 non-null    int64  \n",
      " 14  Hinselmann                       751 non-null    int64  \n",
      " 15  Citology                         751 non-null    int64  \n",
      " 16  Biopsy                           751 non-null    int64  \n",
      "dtypes: float64(9), int64(8)\n",
      "memory usage: 105.6 KB\n"
     ]
    }
   ],
   "source": [
    "cancerdata.info()"
   ]
  },
  {
   "cell_type": "markdown",
   "id": "bba7f938",
   "metadata": {},
   "source": [
    "## Training and Scaling"
   ]
  },
  {
   "cell_type": "code",
   "execution_count": 5,
   "id": "d4907302",
   "metadata": {},
   "outputs": [],
   "source": [
    "features = cancerdata.drop(columns = [\"Dx:Cancer\"])\n",
    "target = cancerdata[\"Dx:Cancer\"]"
   ]
  },
  {
   "cell_type": "code",
   "execution_count": 6,
   "id": "4afe5e22",
   "metadata": {},
   "outputs": [],
   "source": [
    "X_train, X_test, y_train, y_test = train_test_split(features, target, test_size = 0.20, random_state=0)"
   ]
  },
  {
   "cell_type": "code",
   "execution_count": 7,
   "id": "795aeb2d",
   "metadata": {},
   "outputs": [
    {
     "data": {
      "text/html": [
       "<style>#sk-container-id-1 {color: black;background-color: white;}#sk-container-id-1 pre{padding: 0;}#sk-container-id-1 div.sk-toggleable {background-color: white;}#sk-container-id-1 label.sk-toggleable__label {cursor: pointer;display: block;width: 100%;margin-bottom: 0;padding: 0.3em;box-sizing: border-box;text-align: center;}#sk-container-id-1 label.sk-toggleable__label-arrow:before {content: \"▸\";float: left;margin-right: 0.25em;color: #696969;}#sk-container-id-1 label.sk-toggleable__label-arrow:hover:before {color: black;}#sk-container-id-1 div.sk-estimator:hover label.sk-toggleable__label-arrow:before {color: black;}#sk-container-id-1 div.sk-toggleable__content {max-height: 0;max-width: 0;overflow: hidden;text-align: left;background-color: #f0f8ff;}#sk-container-id-1 div.sk-toggleable__content pre {margin: 0.2em;color: black;border-radius: 0.25em;background-color: #f0f8ff;}#sk-container-id-1 input.sk-toggleable__control:checked~div.sk-toggleable__content {max-height: 200px;max-width: 100%;overflow: auto;}#sk-container-id-1 input.sk-toggleable__control:checked~label.sk-toggleable__label-arrow:before {content: \"▾\";}#sk-container-id-1 div.sk-estimator input.sk-toggleable__control:checked~label.sk-toggleable__label {background-color: #d4ebff;}#sk-container-id-1 div.sk-label input.sk-toggleable__control:checked~label.sk-toggleable__label {background-color: #d4ebff;}#sk-container-id-1 input.sk-hidden--visually {border: 0;clip: rect(1px 1px 1px 1px);clip: rect(1px, 1px, 1px, 1px);height: 1px;margin: -1px;overflow: hidden;padding: 0;position: absolute;width: 1px;}#sk-container-id-1 div.sk-estimator {font-family: monospace;background-color: #f0f8ff;border: 1px dotted black;border-radius: 0.25em;box-sizing: border-box;margin-bottom: 0.5em;}#sk-container-id-1 div.sk-estimator:hover {background-color: #d4ebff;}#sk-container-id-1 div.sk-parallel-item::after {content: \"\";width: 100%;border-bottom: 1px solid gray;flex-grow: 1;}#sk-container-id-1 div.sk-label:hover label.sk-toggleable__label {background-color: #d4ebff;}#sk-container-id-1 div.sk-serial::before {content: \"\";position: absolute;border-left: 1px solid gray;box-sizing: border-box;top: 0;bottom: 0;left: 50%;z-index: 0;}#sk-container-id-1 div.sk-serial {display: flex;flex-direction: column;align-items: center;background-color: white;padding-right: 0.2em;padding-left: 0.2em;position: relative;}#sk-container-id-1 div.sk-item {position: relative;z-index: 1;}#sk-container-id-1 div.sk-parallel {display: flex;align-items: stretch;justify-content: center;background-color: white;position: relative;}#sk-container-id-1 div.sk-item::before, #sk-container-id-1 div.sk-parallel-item::before {content: \"\";position: absolute;border-left: 1px solid gray;box-sizing: border-box;top: 0;bottom: 0;left: 50%;z-index: -1;}#sk-container-id-1 div.sk-parallel-item {display: flex;flex-direction: column;z-index: 1;position: relative;background-color: white;}#sk-container-id-1 div.sk-parallel-item:first-child::after {align-self: flex-end;width: 50%;}#sk-container-id-1 div.sk-parallel-item:last-child::after {align-self: flex-start;width: 50%;}#sk-container-id-1 div.sk-parallel-item:only-child::after {width: 0;}#sk-container-id-1 div.sk-dashed-wrapped {border: 1px dashed gray;margin: 0 0.4em 0.5em 0.4em;box-sizing: border-box;padding-bottom: 0.4em;background-color: white;}#sk-container-id-1 div.sk-label label {font-family: monospace;font-weight: bold;display: inline-block;line-height: 1.2em;}#sk-container-id-1 div.sk-label-container {text-align: center;}#sk-container-id-1 div.sk-container {/* jupyter's `normalize.less` sets `[hidden] { display: none; }` but bootstrap.min.css set `[hidden] { display: none !important; }` so we also need the `!important` here to be able to override the default hidden behavior on the sphinx rendered scikit-learn.org. See: https://github.com/scikit-learn/scikit-learn/issues/21755 */display: inline-block !important;position: relative;}#sk-container-id-1 div.sk-text-repr-fallback {display: none;}</style><div id=\"sk-container-id-1\" class=\"sk-top-container\"><div class=\"sk-text-repr-fallback\"><pre>MinMaxScaler()</pre><b>In a Jupyter environment, please rerun this cell to show the HTML representation or trust the notebook. <br />On GitHub, the HTML representation is unable to render, please try loading this page with nbviewer.org.</b></div><div class=\"sk-container\" hidden><div class=\"sk-item\"><div class=\"sk-estimator sk-toggleable\"><input class=\"sk-toggleable__control sk-hidden--visually\" id=\"sk-estimator-id-1\" type=\"checkbox\" checked><label for=\"sk-estimator-id-1\" class=\"sk-toggleable__label sk-toggleable__label-arrow\">MinMaxScaler</label><div class=\"sk-toggleable__content\"><pre>MinMaxScaler()</pre></div></div></div></div></div>"
      ],
      "text/plain": [
       "MinMaxScaler()"
      ]
     },
     "execution_count": 7,
     "metadata": {},
     "output_type": "execute_result"
    }
   ],
   "source": [
    "scaler = MinMaxScaler()\n",
    "scaler.fit(X_train)"
   ]
  },
  {
   "cell_type": "code",
   "execution_count": 8,
   "id": "1f79efba",
   "metadata": {},
   "outputs": [],
   "source": [
    "X_train_scale = scaler.transform(X_train)\n",
    "\n",
    "X_test_scale = scaler.transform(X_test)"
   ]
  },
  {
   "cell_type": "code",
   "execution_count": 9,
   "id": "04d0a82d",
   "metadata": {},
   "outputs": [
    {
     "data": {
      "text/html": [
       "<div>\n",
       "<style scoped>\n",
       "    .dataframe tbody tr th:only-of-type {\n",
       "        vertical-align: middle;\n",
       "    }\n",
       "\n",
       "    .dataframe tbody tr th {\n",
       "        vertical-align: top;\n",
       "    }\n",
       "\n",
       "    .dataframe thead th {\n",
       "        text-align: right;\n",
       "    }\n",
       "</style>\n",
       "<table border=\"1\" class=\"dataframe\">\n",
       "  <thead>\n",
       "    <tr style=\"text-align: right;\">\n",
       "      <th></th>\n",
       "      <th>Age</th>\n",
       "      <th>Number of sexual partners</th>\n",
       "      <th>First sexual intercourse</th>\n",
       "      <th>Num of pregnancies</th>\n",
       "      <th>Smokes (years)</th>\n",
       "      <th>Smokes (packs/year)</th>\n",
       "      <th>Hormonal Contraceptives (years)</th>\n",
       "      <th>IUD</th>\n",
       "      <th>IUD (years)</th>\n",
       "      <th>STDs:HPV</th>\n",
       "      <th>STDs: Number of diagnosis</th>\n",
       "      <th>Dx:HPV</th>\n",
       "      <th>Dx</th>\n",
       "      <th>Hinselmann</th>\n",
       "      <th>Citology</th>\n",
       "      <th>Biopsy</th>\n",
       "    </tr>\n",
       "  </thead>\n",
       "  <tbody>\n",
       "    <tr>\n",
       "      <th>0</th>\n",
       "      <td>0.342857</td>\n",
       "      <td>0.074074</td>\n",
       "      <td>0.363636</td>\n",
       "      <td>0.363636</td>\n",
       "      <td>0.0</td>\n",
       "      <td>0.0</td>\n",
       "      <td>0.454545</td>\n",
       "      <td>1.0</td>\n",
       "      <td>0.105263</td>\n",
       "      <td>0.0</td>\n",
       "      <td>0.000000</td>\n",
       "      <td>0.0</td>\n",
       "      <td>0.0</td>\n",
       "      <td>0.0</td>\n",
       "      <td>1.0</td>\n",
       "      <td>1.0</td>\n",
       "    </tr>\n",
       "    <tr>\n",
       "      <th>1</th>\n",
       "      <td>0.071429</td>\n",
       "      <td>0.037037</td>\n",
       "      <td>0.227273</td>\n",
       "      <td>0.181818</td>\n",
       "      <td>0.0</td>\n",
       "      <td>0.0</td>\n",
       "      <td>0.045455</td>\n",
       "      <td>0.0</td>\n",
       "      <td>0.000000</td>\n",
       "      <td>0.0</td>\n",
       "      <td>0.666667</td>\n",
       "      <td>0.0</td>\n",
       "      <td>0.0</td>\n",
       "      <td>0.0</td>\n",
       "      <td>0.0</td>\n",
       "      <td>0.0</td>\n",
       "    </tr>\n",
       "    <tr>\n",
       "      <th>2</th>\n",
       "      <td>0.171429</td>\n",
       "      <td>0.074074</td>\n",
       "      <td>0.318182</td>\n",
       "      <td>0.272727</td>\n",
       "      <td>0.0</td>\n",
       "      <td>0.0</td>\n",
       "      <td>0.011364</td>\n",
       "      <td>0.0</td>\n",
       "      <td>0.000000</td>\n",
       "      <td>0.0</td>\n",
       "      <td>0.333333</td>\n",
       "      <td>0.0</td>\n",
       "      <td>0.0</td>\n",
       "      <td>0.0</td>\n",
       "      <td>0.0</td>\n",
       "      <td>0.0</td>\n",
       "    </tr>\n",
       "    <tr>\n",
       "      <th>3</th>\n",
       "      <td>0.442857</td>\n",
       "      <td>0.148148</td>\n",
       "      <td>0.227273</td>\n",
       "      <td>0.636364</td>\n",
       "      <td>0.0</td>\n",
       "      <td>0.0</td>\n",
       "      <td>0.030000</td>\n",
       "      <td>0.0</td>\n",
       "      <td>0.000000</td>\n",
       "      <td>0.0</td>\n",
       "      <td>0.000000</td>\n",
       "      <td>0.0</td>\n",
       "      <td>0.0</td>\n",
       "      <td>0.0</td>\n",
       "      <td>0.0</td>\n",
       "      <td>0.0</td>\n",
       "    </tr>\n",
       "    <tr>\n",
       "      <th>4</th>\n",
       "      <td>0.042857</td>\n",
       "      <td>0.037037</td>\n",
       "      <td>0.227273</td>\n",
       "      <td>0.181818</td>\n",
       "      <td>0.0</td>\n",
       "      <td>0.0</td>\n",
       "      <td>0.000000</td>\n",
       "      <td>0.0</td>\n",
       "      <td>0.000000</td>\n",
       "      <td>0.0</td>\n",
       "      <td>0.333333</td>\n",
       "      <td>0.0</td>\n",
       "      <td>0.0</td>\n",
       "      <td>0.0</td>\n",
       "      <td>0.0</td>\n",
       "      <td>0.0</td>\n",
       "    </tr>\n",
       "  </tbody>\n",
       "</table>\n",
       "</div>"
      ],
      "text/plain": [
       "        Age  Number of sexual partners  First sexual intercourse  \\\n",
       "0  0.342857                   0.074074                  0.363636   \n",
       "1  0.071429                   0.037037                  0.227273   \n",
       "2  0.171429                   0.074074                  0.318182   \n",
       "3  0.442857                   0.148148                  0.227273   \n",
       "4  0.042857                   0.037037                  0.227273   \n",
       "\n",
       "   Num of pregnancies  Smokes (years)  Smokes (packs/year)  \\\n",
       "0            0.363636             0.0                  0.0   \n",
       "1            0.181818             0.0                  0.0   \n",
       "2            0.272727             0.0                  0.0   \n",
       "3            0.636364             0.0                  0.0   \n",
       "4            0.181818             0.0                  0.0   \n",
       "\n",
       "   Hormonal Contraceptives (years)  IUD  IUD (years)  STDs:HPV  \\\n",
       "0                         0.454545  1.0     0.105263       0.0   \n",
       "1                         0.045455  0.0     0.000000       0.0   \n",
       "2                         0.011364  0.0     0.000000       0.0   \n",
       "3                         0.030000  0.0     0.000000       0.0   \n",
       "4                         0.000000  0.0     0.000000       0.0   \n",
       "\n",
       "   STDs: Number of diagnosis  Dx:HPV   Dx  Hinselmann  Citology  Biopsy  \n",
       "0                   0.000000     0.0  0.0         0.0       1.0     1.0  \n",
       "1                   0.666667     0.0  0.0         0.0       0.0     0.0  \n",
       "2                   0.333333     0.0  0.0         0.0       0.0     0.0  \n",
       "3                   0.000000     0.0  0.0         0.0       0.0     0.0  \n",
       "4                   0.333333     0.0  0.0         0.0       0.0     0.0  "
      ]
     },
     "execution_count": 9,
     "metadata": {},
     "output_type": "execute_result"
    }
   ],
   "source": [
    "X_train_scale = pd.DataFrame(X_train_scale, columns = X_train.columns)\n",
    "X_train_scale.head()"
   ]
  },
  {
   "cell_type": "markdown",
   "id": "12ea05fe",
   "metadata": {},
   "source": [
    "## KNN Modeling"
   ]
  },
  {
   "cell_type": "code",
   "execution_count": 10,
   "id": "5a161f81",
   "metadata": {},
   "outputs": [
    {
     "name": "stderr",
     "output_type": "stream",
     "text": [
      "C:\\Users\\NessaJay\\anaconda3\\Lib\\site-packages\\sklearn\\base.py:439: UserWarning: X does not have valid feature names, but KNeighborsClassifier was fitted with feature names\n",
      "  warnings.warn(\n"
     ]
    },
    {
     "data": {
      "text/plain": [
       "0.9801324503311258"
      ]
     },
     "execution_count": 10,
     "metadata": {},
     "output_type": "execute_result"
    }
   ],
   "source": [
    "knn = KNeighborsClassifier(n_neighbors=11)\n",
    "\n",
    "knn.fit(X_train_scale, y_train)\n",
    "\n",
    "knn.score(X_test_scale, y_test)"
   ]
  },
  {
   "cell_type": "code",
   "execution_count": 11,
   "id": "a538082f",
   "metadata": {},
   "outputs": [
    {
     "data": {
      "text/plain": [
       "array([0, 0, 0, 0, 0, 0, 0, 0, 0, 0, 0, 0, 0, 0, 0, 0, 0, 0, 0, 0, 0, 0,\n",
       "       0, 0, 0, 0, 0, 0, 0, 0, 0, 0, 0, 0, 0, 0, 0, 0, 0, 0, 0, 0, 0, 0,\n",
       "       0, 0, 0, 0, 0, 0, 0, 0, 0, 0, 0, 0, 0, 0, 0, 0, 0, 0, 0, 0, 0, 0,\n",
       "       0, 0, 0, 0, 0, 0, 0, 0, 0, 0, 0, 0, 0, 0, 0, 0, 0, 0, 0, 0, 0, 0,\n",
       "       0, 0, 0, 0, 0, 0, 0, 0, 0, 0, 0, 0, 0, 0, 0, 0, 0, 0, 0, 0, 0, 0,\n",
       "       0, 0, 0, 0, 0, 0, 0, 0, 0, 0, 0, 0, 0, 0, 0, 0, 0, 0, 0, 0, 0, 0,\n",
       "       0, 0, 0, 0, 0, 0, 0, 0, 0, 0, 0, 0, 0, 0, 0, 0, 0, 0, 0],\n",
       "      dtype=int64)"
      ]
     },
     "execution_count": 11,
     "metadata": {},
     "output_type": "execute_result"
    }
   ],
   "source": [
    "pred = knn.predict(X_test)\n",
    "pred"
   ]
  },
  {
   "cell_type": "code",
   "execution_count": 12,
   "id": "d6ef59a6",
   "metadata": {},
   "outputs": [
    {
     "name": "stdout",
     "output_type": "stream",
     "text": [
      "Precision: {0.0}\n",
      "Accuracy: {0.9602649006622517}\n",
      "Recall: {0.0}\n",
      "F1: {0.0}\n"
     ]
    }
   ],
   "source": [
    "print(f\"Precision:\",{precision_score(y_test, pred,zero_division=0)})\n",
    "print(f\"Accuracy:\",{accuracy_score(y_test, pred)})\n",
    "print(f\"Recall:\",{recall_score(y_test, pred)})\n",
    "print(f\"F1:\",{f1_score(y_test, pred)})"
   ]
  },
  {
   "cell_type": "markdown",
   "id": "81f6510d",
   "metadata": {},
   "source": [
    "## Feature Selection"
   ]
  },
  {
   "cell_type": "markdown",
   "id": "26f90fd7",
   "metadata": {},
   "source": [
    "### Heat Map"
   ]
  },
  {
   "cell_type": "code",
   "execution_count": null,
   "id": "fcb2e650",
   "metadata": {},
   "outputs": [],
   "source": [
    "# loaded original data set to make heatmap\n",
    "cancer_data = pd.read_csv('risk_factors_cervical_cancer.csv')\n",
    "cancer_data = cancer_data.dropna()\n",
    "cancer_data = cancer_data.replace('?', np.nan)\n",
    "cancer_data.isna().sum()"
   ]
  },
  {
   "cell_type": "code",
   "execution_count": 14,
   "id": "3f0218bf",
   "metadata": {
    "scrolled": false
   },
   "outputs": [
    {
     "data": {
      "image/png": "[encoded data removed]",
      "text/plain": [
       "<Figure size 1000x1000 with 2 Axes>"
      ]
     },
     "metadata": {},
     "output_type": "display_data"
    }
   ],
   "source": [
    "#heat map for numericals\n",
    "\n",
    "cancer_numericals = cancer_data.select_dtypes(include = np.number)\n",
    "\n",
    "#absolute value of all correlations\n",
    "corr=np.abs(cancer_numericals.corr()) \n",
    "\n",
    "#Set up mask for triangle representation\n",
    "mask = np.zeros_like(corr, dtype=bool)\n",
    "mask[np.triu_indices_from(mask)] = True\n",
    "\n",
    "# Set up the matplotlib figure\n",
    "f, ax = plt.subplots(figsize=(10,10))\n",
    "# Generate a custom diverging colormap\n",
    "cmap = sns.diverging_palette(220, 10, as_cmap=True)\n",
    "# Draw the heatmap with the mask and correct aspect ratio\n",
    "sns.heatmap(corr, mask=mask,  vmax=1,square=True, linewidths= .5, cbar_kws={\"shrink\": 1},annot = corr)\n",
    "\n",
    "plt.show()"
   ]
  },
  {
   "cell_type": "markdown",
   "id": "b2a551f4",
   "metadata": {},
   "source": [
    "### chi-squared test"
   ]
  },
  {
   "cell_type": "code",
   "execution_count": 15,
   "id": "59d92217",
   "metadata": {},
   "outputs": [
    {
     "data": {
      "text/html": [
       "<div>\n",
       "<style scoped>\n",
       "    .dataframe tbody tr th:only-of-type {\n",
       "        vertical-align: middle;\n",
       "    }\n",
       "\n",
       "    .dataframe tbody tr th {\n",
       "        vertical-align: top;\n",
       "    }\n",
       "\n",
       "    .dataframe thead th {\n",
       "        text-align: right;\n",
       "    }\n",
       "</style>\n",
       "<table border=\"1\" class=\"dataframe\">\n",
       "  <thead>\n",
       "    <tr style=\"text-align: right;\">\n",
       "      <th></th>\n",
       "      <th>Feature</th>\n",
       "      <th>Chi2 Score</th>\n",
       "      <th>p-value</th>\n",
       "    </tr>\n",
       "  </thead>\n",
       "  <tbody>\n",
       "    <tr>\n",
       "      <th>0</th>\n",
       "      <td>Age</td>\n",
       "      <td>24.1835</td>\n",
       "      <td>0.0000</td>\n",
       "    </tr>\n",
       "    <tr>\n",
       "      <th>1</th>\n",
       "      <td>Number of sexual partners</td>\n",
       "      <td>0.4404</td>\n",
       "      <td>0.5069</td>\n",
       "    </tr>\n",
       "    <tr>\n",
       "      <th>2</th>\n",
       "      <td>First sexual intercourse</td>\n",
       "      <td>1.5155</td>\n",
       "      <td>0.2183</td>\n",
       "    </tr>\n",
       "    <tr>\n",
       "      <th>3</th>\n",
       "      <td>Num of pregnancies</td>\n",
       "      <td>0.6756</td>\n",
       "      <td>0.4111</td>\n",
       "    </tr>\n",
       "    <tr>\n",
       "      <th>4</th>\n",
       "      <td>Smokes (years)</td>\n",
       "      <td>32.0429</td>\n",
       "      <td>0.0000</td>\n",
       "    </tr>\n",
       "    <tr>\n",
       "      <th>5</th>\n",
       "      <td>Smokes (packs/year)</td>\n",
       "      <td>103.4305</td>\n",
       "      <td>0.0000</td>\n",
       "    </tr>\n",
       "    <tr>\n",
       "      <th>6</th>\n",
       "      <td>Hormonal Contraceptives (years)</td>\n",
       "      <td>15.0112</td>\n",
       "      <td>0.0001</td>\n",
       "    </tr>\n",
       "    <tr>\n",
       "      <th>7</th>\n",
       "      <td>IUD</td>\n",
       "      <td>8.2843</td>\n",
       "      <td>0.0040</td>\n",
       "    </tr>\n",
       "    <tr>\n",
       "      <th>8</th>\n",
       "      <td>IUD (years)</td>\n",
       "      <td>53.5329</td>\n",
       "      <td>0.0000</td>\n",
       "    </tr>\n",
       "    <tr>\n",
       "      <th>9</th>\n",
       "      <td>STDs:HPV</td>\n",
       "      <td>81.4444</td>\n",
       "      <td>0.0000</td>\n",
       "    </tr>\n",
       "    <tr>\n",
       "      <th>10</th>\n",
       "      <td>STDs: Number of diagnosis</td>\n",
       "      <td>0.3626</td>\n",
       "      <td>0.5471</td>\n",
       "    </tr>\n",
       "    <tr>\n",
       "      <th>11</th>\n",
       "      <td>Dx:HPV</td>\n",
       "      <td>575.6104</td>\n",
       "      <td>0.0000</td>\n",
       "    </tr>\n",
       "    <tr>\n",
       "      <th>12</th>\n",
       "      <td>Dx</td>\n",
       "      <td>336.1541</td>\n",
       "      <td>0.0000</td>\n",
       "    </tr>\n",
       "    <tr>\n",
       "      <th>13</th>\n",
       "      <td>Hinselmann</td>\n",
       "      <td>12.2044</td>\n",
       "      <td>0.0005</td>\n",
       "    </tr>\n",
       "    <tr>\n",
       "      <th>14</th>\n",
       "      <td>Citology</td>\n",
       "      <td>9.4920</td>\n",
       "      <td>0.0021</td>\n",
       "    </tr>\n",
       "    <tr>\n",
       "      <th>15</th>\n",
       "      <td>Biopsy</td>\n",
       "      <td>18.0424</td>\n",
       "      <td>0.0000</td>\n",
       "    </tr>\n",
       "  </tbody>\n",
       "</table>\n",
       "</div>"
      ],
      "text/plain": [
       "                            Feature  Chi2 Score  p-value\n",
       "0                               Age     24.1835   0.0000\n",
       "1         Number of sexual partners      0.4404   0.5069\n",
       "2          First sexual intercourse      1.5155   0.2183\n",
       "3                Num of pregnancies      0.6756   0.4111\n",
       "4                    Smokes (years)     32.0429   0.0000\n",
       "5               Smokes (packs/year)    103.4305   0.0000\n",
       "6   Hormonal Contraceptives (years)     15.0112   0.0001\n",
       "7                               IUD      8.2843   0.0040\n",
       "8                       IUD (years)     53.5329   0.0000\n",
       "9                          STDs:HPV     81.4444   0.0000\n",
       "10        STDs: Number of diagnosis      0.3626   0.5471\n",
       "11                           Dx:HPV    575.6104   0.0000\n",
       "12                               Dx    336.1541   0.0000\n",
       "13                       Hinselmann     12.2044   0.0005\n",
       "14                         Citology      9.4920   0.0021\n",
       "15                           Biopsy     18.0424   0.0000"
      ]
     },
     "execution_count": 15,
     "metadata": {},
     "output_type": "execute_result"
    }
   ],
   "source": [
    "#chi-squared test for categorical\n",
    "\n",
    "chi2_scores, p_values = chi2(features, target)\n",
    "\n",
    "# Create a DataFrame to display the results\n",
    "chi2_results = pd.DataFrame({\n",
    "    'Feature': features.columns,\n",
    "    'Chi2 Score': chi2_scores,\n",
    "    'p-value': p_values\n",
    "})\n",
    "\n",
    "round(chi2_results,4)"
   ]
  },
  {
   "cell_type": "markdown",
   "id": "d52ffb30",
   "metadata": {},
   "source": [
    "Null Hypothesis: There is not statistically significant relationship with target\n",
    "\n",
    "Notable results from original chi-test\n",
    "- Smokes\t0.1273\t0.7212  (No)\n",
    "- Hormonal Contraceptives\t0.1793\t0.6720 (No)\n",
    "- STDs:condylomatosis\t1.0805\t0.2986 (No)\n",
    "- STDs:vaginal condylomatosis\t0.0982\t0.7540 (no)\n",
    "- STDs:vulvo-perineal condylomatosis\t1.0559\t0.3041 (no)\n",
    "- STDs:syphilis\t0.4420\t0.5061 (No)\n",
    "- STDs:pelvic inflammatory disease\t0.0246\t0.8755 (no)\n",
    "- STDs:genital herpes\t0.0246\t0.8755 (no)\n",
    "- STDs:molluscum contagiosum\t0.0246\t0.8755 (no)\n",
    "- STDs:HIV\t0.4420\t0.5061 (no)\n",
    "- STDs:Hepatitis B\t0.0246\t0.8755 (no)\n",
    "- STDs:HPV\t81.4444\t0.0000  (Yes)\n",
    "- Dx:CIN\t0.1965\t0.6576 (no)\n",
    "- Dx:HPV\t575.6104\t0.0000 (yes)\n",
    "- Dx\t336.1541\t0.0000  (Yes)\n",
    "- Hinselmann\t12.2044\t0.0005  (yes)\n",
    "- Citology\t9.4920\t0.0021 (yes)\n",
    "- Biopsy\t18.0424\t0.0000 (yes)\n",
    "- IUD\t8.2843\t0.0040 (yes)"
   ]
  }
 ],
 "metadata": {
  "kernelspec": {
   "display_name": "Python 3 (ipykernel)",
   "language": "python",
   "name": "python3"
  },
  "language_info": {
   "codemirror_mode": {
    "name": "ipython",
    "version": 3
   },
   "file_extension": ".py",
   "mimetype": "text/x-python",
   "name": "python",
   "nbconvert_exporter": "python",
   "pygments_lexer": "ipython3",
   "version": "3.11.7"
  }
 },
 "nbformat": 4,
 "nbformat_minor": 5
}
