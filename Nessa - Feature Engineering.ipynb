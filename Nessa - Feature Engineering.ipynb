{
 "cells": [
  {
   "cell_type": "code",
   "execution_count": 1,
   "id": "41466eb8",
   "metadata": {},
   "outputs": [],
   "source": [
    "from sklearn.datasets import fetch_california_housing\n",
    "import pandas as pd\n",
    "import numpy as np\n",
    "pd.set_option('display.max_columns', None)\n",
    "from sklearn.feature_selection import chi2\n",
    "\n",
    "import matplotlib.pyplot as plt\n",
    "import seaborn as sns\n",
    "\n",
    "from sklearn.model_selection import train_test_split\n",
    "from sklearn.neighbors import KNeighborsClassifier\n",
    "\n",
    "from sklearn.preprocessing import MinMaxScaler, StandardScaler\n",
    "\n",
    "from sklearn.preprocessing import OneHotEncoder\n",
    "from sklearn.metrics import precision_score\n",
    "from sklearn.metrics import accuracy_score\n",
    "from sklearn.metrics import recall_score\n",
    "from sklearn.metrics import f1_score\n",
    "from sklearn.metrics import r2_score\n",
    "from sklearn.metrics import confusion_matrix"
   ]
  },
  {
   "cell_type": "code",
   "execution_count": 2,
   "id": "c023663d",
   "metadata": {},
   "outputs": [],
   "source": [
    "import pickle\n",
    "\n",
    "with open('cancerdata.pkl', 'rb') as file:\n",
    "    cancerdata= pickle.load(file)\n",
    "\n",
    "# dropped columns based on heatmap\n",
    "cancerdata.drop(columns=['STDs:AIDS','STDs:cervical condylomatosis','STDs','STDs (number)','Schiller'], inplace=True)\n",
    "\n",
    "# dropping the categorical columns that show no statistical significance based on chi test\n",
    "cancerdata.drop(columns=['Smokes','Hormonal Contraceptives','STDs:condylomatosis','STDs:vaginal condylomatosis',\n",
    "                         'STDs:syphilis','STDs:pelvic inflammatory disease','STDs:genital herpes',\n",
    "                         'STDs:molluscum contagiosum','STDs:HIV','STDs:Hepatitis B','Dx:CIN',\n",
    "                         'STDs:vulvo-perineal condylomatosis'], inplace=True)\n",
    "\n",
    "#we are saving the updated dataset\n",
    "cancerdata.to_pickle('cancer_coded.pkl')"
   ]
  },
  {
   "cell_type": "code",
   "execution_count": 3,
   "id": "2d9920c3",
   "metadata": {},
   "outputs": [
    {
     "name": "stdout",
     "output_type": "stream",
     "text": [
      "<class 'pandas.core.frame.DataFrame'>\n",
      "Index: 751 entries, 0 to 857\n",
      "Data columns (total 17 columns):\n",
      " #   Column                           Non-Null Count  Dtype  \n",
      "---  ------                           --------------  -----  \n",
      " 0   Age                              751 non-null    int64  \n",
      " 1   Number of sexual partners        751 non-null    float64\n",
      " 2   First sexual intercourse         751 non-null    float64\n",
      " 3   Num of pregnancies               751 non-null    float64\n",
      " 4   Smokes (years)                   751 non-null    float64\n",
      " 5   Smokes (packs/year)              751 non-null    float64\n",
      " 6   Hormonal Contraceptives (years)  751 non-null    float64\n",
      " 7   IUD                              751 non-null    float64\n",
      " 8   IUD (years)                      751 non-null    float64\n",
      " 9   STDs:HPV                         751 non-null    float64\n",
      " 10  STDs: Number of diagnosis        751 non-null    int64  \n",
      " 11  Dx:Cancer                        751 non-null    int64  \n",
      " 12  Dx:HPV                           751 non-null    int64  \n",
      " 13  Dx                               751 non-null    int64  \n",
      " 14  Hinselmann                       751 non-null    int64  \n",
      " 15  Citology                         751 non-null    int64  \n",
      " 16  Biopsy                           751 non-null    int64  \n",
      "dtypes: float64(9), int64(8)\n",
      "memory usage: 105.6 KB\n"
     ]
    }
   ],
   "source": [
    "cancerdata.info()"
   ]
  },
  {
   "cell_type": "markdown",
   "id": "bba7f938",
   "metadata": {},
   "source": [
    "## Training and Scaling"
   ]
  },
  {
   "cell_type": "code",
   "execution_count": 4,
   "id": "d4907302",
   "metadata": {},
   "outputs": [],
   "source": [
    "features = cancerdata.drop(columns = [\"Dx:Cancer\"])\n",
    "target = cancerdata[\"Dx:Cancer\"]"
   ]
  },
  {
   "cell_type": "code",
   "execution_count": 5,
   "id": "4afe5e22",
   "metadata": {},
   "outputs": [],
   "source": [
    "X_train, X_test, y_train, y_test = train_test_split(features, target, test_size = 0.20, random_state=0)"
   ]
  },
  {
   "cell_type": "code",
   "execution_count": 6,
   "id": "795aeb2d",
   "metadata": {},
   "outputs": [],
   "source": [
    "#scaler = MinMaxScaler()\n",
    "#scaler.fit(X_train)"
   ]
  },
  {
   "cell_type": "code",
   "execution_count": 7,
   "id": "1f79efba",
   "metadata": {},
   "outputs": [],
   "source": [
    "#X_train_scale = scaler.transform(X_train)\n",
    "\n",
    "#X_test_scale = scaler.transform(X_test)"
   ]
  },
  {
   "cell_type": "code",
   "execution_count": 9,
   "id": "04d0a82d",
   "metadata": {},
   "outputs": [
    {
     "data": {
      "text/html": [
       "<div>\n",
       "<style scoped>\n",
       "    .dataframe tbody tr th:only-of-type {\n",
       "        vertical-align: middle;\n",
       "    }\n",
       "\n",
       "    .dataframe tbody tr th {\n",
       "        vertical-align: top;\n",
       "    }\n",
       "\n",
       "    .dataframe thead th {\n",
       "        text-align: right;\n",
       "    }\n",
       "</style>\n",
       "<table border=\"1\" class=\"dataframe\">\n",
       "  <thead>\n",
       "    <tr style=\"text-align: right;\">\n",
       "      <th></th>\n",
       "      <th>Age</th>\n",
       "      <th>Number of sexual partners</th>\n",
       "      <th>First sexual intercourse</th>\n",
       "      <th>Num of pregnancies</th>\n",
       "      <th>Smokes (years)</th>\n",
       "      <th>Smokes (packs/year)</th>\n",
       "      <th>Hormonal Contraceptives (years)</th>\n",
       "      <th>IUD</th>\n",
       "      <th>IUD (years)</th>\n",
       "      <th>STDs:HPV</th>\n",
       "      <th>STDs: Number of diagnosis</th>\n",
       "      <th>Dx:HPV</th>\n",
       "      <th>Dx</th>\n",
       "      <th>Hinselmann</th>\n",
       "      <th>Citology</th>\n",
       "      <th>Biopsy</th>\n",
       "    </tr>\n",
       "  </thead>\n",
       "  <tbody>\n",
       "    <tr>\n",
       "      <th>103</th>\n",
       "      <td>38</td>\n",
       "      <td>3.0</td>\n",
       "      <td>18.0</td>\n",
       "      <td>4.0</td>\n",
       "      <td>0.0</td>\n",
       "      <td>0.0</td>\n",
       "      <td>10.00</td>\n",
       "      <td>1.0</td>\n",
       "      <td>2.0</td>\n",
       "      <td>0.0</td>\n",
       "      <td>0</td>\n",
       "      <td>0</td>\n",
       "      <td>0</td>\n",
       "      <td>0</td>\n",
       "      <td>1</td>\n",
       "      <td>1</td>\n",
       "    </tr>\n",
       "    <tr>\n",
       "      <th>597</th>\n",
       "      <td>19</td>\n",
       "      <td>2.0</td>\n",
       "      <td>15.0</td>\n",
       "      <td>2.0</td>\n",
       "      <td>0.0</td>\n",
       "      <td>0.0</td>\n",
       "      <td>1.00</td>\n",
       "      <td>0.0</td>\n",
       "      <td>0.0</td>\n",
       "      <td>0.0</td>\n",
       "      <td>2</td>\n",
       "      <td>0</td>\n",
       "      <td>0</td>\n",
       "      <td>0</td>\n",
       "      <td>0</td>\n",
       "      <td>0</td>\n",
       "    </tr>\n",
       "    <tr>\n",
       "      <th>170</th>\n",
       "      <td>26</td>\n",
       "      <td>3.0</td>\n",
       "      <td>17.0</td>\n",
       "      <td>3.0</td>\n",
       "      <td>0.0</td>\n",
       "      <td>0.0</td>\n",
       "      <td>0.25</td>\n",
       "      <td>0.0</td>\n",
       "      <td>0.0</td>\n",
       "      <td>0.0</td>\n",
       "      <td>1</td>\n",
       "      <td>0</td>\n",
       "      <td>0</td>\n",
       "      <td>0</td>\n",
       "      <td>0</td>\n",
       "      <td>0</td>\n",
       "    </tr>\n",
       "    <tr>\n",
       "      <th>588</th>\n",
       "      <td>45</td>\n",
       "      <td>5.0</td>\n",
       "      <td>15.0</td>\n",
       "      <td>7.0</td>\n",
       "      <td>0.0</td>\n",
       "      <td>0.0</td>\n",
       "      <td>0.66</td>\n",
       "      <td>0.0</td>\n",
       "      <td>0.0</td>\n",
       "      <td>0.0</td>\n",
       "      <td>0</td>\n",
       "      <td>0</td>\n",
       "      <td>0</td>\n",
       "      <td>0</td>\n",
       "      <td>0</td>\n",
       "      <td>0</td>\n",
       "    </tr>\n",
       "    <tr>\n",
       "      <th>590</th>\n",
       "      <td>17</td>\n",
       "      <td>2.0</td>\n",
       "      <td>15.0</td>\n",
       "      <td>2.0</td>\n",
       "      <td>0.0</td>\n",
       "      <td>0.0</td>\n",
       "      <td>0.00</td>\n",
       "      <td>0.0</td>\n",
       "      <td>0.0</td>\n",
       "      <td>0.0</td>\n",
       "      <td>1</td>\n",
       "      <td>0</td>\n",
       "      <td>0</td>\n",
       "      <td>0</td>\n",
       "      <td>0</td>\n",
       "      <td>0</td>\n",
       "    </tr>\n",
       "  </tbody>\n",
       "</table>\n",
       "</div>"
      ],
      "text/plain": [
       "     Age  Number of sexual partners  First sexual intercourse  \\\n",
       "103   38                        3.0                      18.0   \n",
       "597   19                        2.0                      15.0   \n",
       "170   26                        3.0                      17.0   \n",
       "588   45                        5.0                      15.0   \n",
       "590   17                        2.0                      15.0   \n",
       "\n",
       "     Num of pregnancies  Smokes (years)  Smokes (packs/year)  \\\n",
       "103                 4.0             0.0                  0.0   \n",
       "597                 2.0             0.0                  0.0   \n",
       "170                 3.0             0.0                  0.0   \n",
       "588                 7.0             0.0                  0.0   \n",
       "590                 2.0             0.0                  0.0   \n",
       "\n",
       "     Hormonal Contraceptives (years)  IUD  IUD (years)  STDs:HPV  \\\n",
       "103                            10.00  1.0          2.0       0.0   \n",
       "597                             1.00  0.0          0.0       0.0   \n",
       "170                             0.25  0.0          0.0       0.0   \n",
       "588                             0.66  0.0          0.0       0.0   \n",
       "590                             0.00  0.0          0.0       0.0   \n",
       "\n",
       "     STDs: Number of diagnosis  Dx:HPV  Dx  Hinselmann  Citology  Biopsy  \n",
       "103                          0       0   0           0         1       1  \n",
       "597                          2       0   0           0         0       0  \n",
       "170                          1       0   0           0         0       0  \n",
       "588                          0       0   0           0         0       0  \n",
       "590                          1       0   0           0         0       0  "
      ]
     },
     "execution_count": 9,
     "metadata": {},
     "output_type": "execute_result"
    }
   ],
   "source": [
    "X_train = pd.DataFrame(X_train, columns = X_train.columns)\n",
    "X_train.head()"
   ]
  },
  {
   "cell_type": "markdown",
   "id": "12ea05fe",
   "metadata": {},
   "source": [
    "## KNN Modeling"
   ]
  },
  {
   "cell_type": "code",
   "execution_count": 10,
   "id": "5a161f81",
   "metadata": {},
   "outputs": [
    {
     "data": {
      "text/plain": [
       "0.9602649006622517"
      ]
     },
     "execution_count": 10,
     "metadata": {},
     "output_type": "execute_result"
    }
   ],
   "source": [
    "knn = KNeighborsClassifier(n_neighbors=11)\n",
    "\n",
    "knn.fit(X_train, y_train)\n",
    "\n",
    "knn.score(X_test, y_test)"
   ]
  },
  {
   "cell_type": "code",
   "execution_count": 11,
   "id": "a538082f",
   "metadata": {},
   "outputs": [
    {
     "data": {
      "text/plain": [
       "array([0, 0, 0, 0, 0, 0, 0, 0, 0, 0, 0, 0, 0, 0, 0, 0, 0, 0, 0, 0, 0, 0,\n",
       "       0, 0, 0, 0, 0, 0, 0, 0, 0, 0, 0, 0, 0, 0, 0, 0, 0, 0, 0, 0, 0, 0,\n",
       "       0, 0, 0, 0, 0, 0, 0, 0, 0, 0, 0, 0, 0, 0, 0, 0, 0, 0, 0, 0, 0, 0,\n",
       "       0, 0, 0, 0, 0, 0, 0, 0, 0, 0, 0, 0, 0, 0, 0, 0, 0, 0, 0, 0, 0, 0,\n",
       "       0, 0, 0, 0, 0, 0, 0, 0, 0, 0, 0, 0, 0, 0, 0, 0, 0, 0, 0, 0, 0, 0,\n",
       "       0, 0, 0, 0, 0, 0, 0, 0, 0, 0, 0, 0, 0, 0, 0, 0, 0, 0, 0, 0, 0, 0,\n",
       "       0, 0, 0, 0, 0, 0, 0, 0, 0, 0, 0, 0, 0, 0, 0, 0, 0, 0, 0],\n",
       "      dtype=int64)"
      ]
     },
     "execution_count": 11,
     "metadata": {},
     "output_type": "execute_result"
    }
   ],
   "source": [
    "pred = knn.predict(X_test)\n",
    "pred"
   ]
  },
  {
   "cell_type": "code",
   "execution_count": 12,
   "id": "d6ef59a6",
   "metadata": {},
   "outputs": [
    {
     "name": "stdout",
     "output_type": "stream",
     "text": [
      "Precision: {0.0}\n",
      "Accuracy: {0.9602649006622517}\n",
      "Recall: {0.0}\n",
      "F1: {0.0}\n"
     ]
    }
   ],
   "source": [
    "print(f\"Precision:\",{precision_score(y_test, pred,zero_division=0)})\n",
    "print(f\"Accuracy:\",{accuracy_score(y_test, pred)})\n",
    "print(f\"Recall:\",{recall_score(y_test, pred)})\n",
    "print(f\"F1:\",{f1_score(y_test, pred)})"
   ]
  },
  {
   "cell_type": "markdown",
   "id": "81f6510d",
   "metadata": {},
   "source": [
    "## Feature Selection"
   ]
  },
  {
   "cell_type": "markdown",
   "id": "26f90fd7",
   "metadata": {},
   "source": [
    "### Heat Map"
   ]
  },
  {
   "cell_type": "code",
   "execution_count": null,
   "id": "fcb2e650",
   "metadata": {},
   "outputs": [],
   "source": [
    "# loaded original data set to make heatmap\n",
    "cancer_data = pd.read_csv('risk_factors_cervical_cancer.csv')\n",
    "cancer_data = cancer_data.dropna()\n",
    "cancer_data = cancer_data.replace('?', np.nan)\n",
    "cancer_data.isna().sum()"
   ]
  },
  {
   "cell_type": "code",
   "execution_count": null,
   "id": "3f0218bf",
   "metadata": {
    "scrolled": false
   },
   "outputs": [],
   "source": [
    "#heat map for numericals\n",
    "\n",
    "cancer_numericals = cancer_data.select_dtypes(include = np.number)\n",
    "\n",
    "#absolute value of all correlations\n",
    "corr=np.abs(cancer_numericals.corr()) \n",
    "\n",
    "#Set up mask for triangle representation\n",
    "mask = np.zeros_like(corr, dtype=bool)\n",
    "mask[np.triu_indices_from(mask)] = True\n",
    "\n",
    "# Set up the matplotlib figure\n",
    "f, ax = plt.subplots(figsize=(10,10))\n",
    "# Generate a custom diverging colormap\n",
    "cmap = sns.diverging_palette(220, 10, as_cmap=True)\n",
    "# Draw the heatmap with the mask and correct aspect ratio\n",
    "sns.heatmap(corr, mask=mask,  vmax=1,square=True, linewidths= .5, cbar_kws={\"shrink\": 1},annot = corr)\n",
    "\n",
    "plt.show()"
   ]
  },
  {
   "cell_type": "markdown",
   "id": "b2a551f4",
   "metadata": {},
   "source": [
    "### chi-squared test"
   ]
  },
  {
   "cell_type": "code",
   "execution_count": null,
   "id": "59d92217",
   "metadata": {},
   "outputs": [],
   "source": [
    "#chi-squared test for categorical\n",
    "\n",
    "chi2_scores, p_values = chi2(features, target)\n",
    "\n",
    "# Create a DataFrame to display the results\n",
    "chi2_results = pd.DataFrame({\n",
    "    'Feature': features.columns,\n",
    "    'Chi2 Score': chi2_scores,\n",
    "    'p-value': p_values\n",
    "})\n",
    "\n",
    "round(chi2_results,4)"
   ]
  },
  {
   "cell_type": "markdown",
   "id": "d52ffb30",
   "metadata": {},
   "source": [
    "Null Hypothesis: There is not statistically significant relationship with target\n",
    "\n",
    "Notable results from original chi-test\n",
    "- Smokes\t0.1273\t0.7212  (No)\n",
    "- Hormonal Contraceptives\t0.1793\t0.6720 (No)\n",
    "- STDs:condylomatosis\t1.0805\t0.2986 (No)\n",
    "- STDs:vaginal condylomatosis\t0.0982\t0.7540 (no)\n",
    "- STDs:vulvo-perineal condylomatosis\t1.0559\t0.3041 (no)\n",
    "- STDs:syphilis\t0.4420\t0.5061 (No)\n",
    "- STDs:pelvic inflammatory disease\t0.0246\t0.8755 (no)\n",
    "- STDs:genital herpes\t0.0246\t0.8755 (no)\n",
    "- STDs:molluscum contagiosum\t0.0246\t0.8755 (no)\n",
    "- STDs:HIV\t0.4420\t0.5061 (no)\n",
    "- STDs:Hepatitis B\t0.0246\t0.8755 (no)\n",
    "- STDs:HPV\t81.4444\t0.0000  (Yes)\n",
    "- Dx:CIN\t0.1965\t0.6576 (no)\n",
    "- Dx:HPV\t575.6104\t0.0000 (yes)\n",
    "- Dx\t336.1541\t0.0000  (Yes)\n",
    "- Hinselmann\t12.2044\t0.0005  (yes)\n",
    "- Citology\t9.4920\t0.0021 (yes)\n",
    "- Biopsy\t18.0424\t0.0000 (yes)\n",
    "- IUD\t8.2843\t0.0040 (yes)"
   ]
  },
  {
   "cell_type": "code",
   "execution_count": null,
   "id": "faafa716",
   "metadata": {},
   "outputs": [],
   "source": []
  }
 ],
 "metadata": {
  "kernelspec": {
   "display_name": "Python 3 (ipykernel)",
   "language": "python",
   "name": "python3"
  },
  "language_info": {
   "codemirror_mode": {
    "name": "ipython",
    "version": 3
   },
   "file_extension": ".py",
   "mimetype": "text/x-python",
   "name": "python",
   "nbconvert_exporter": "python",
   "pygments_lexer": "ipython3",
   "version": "3.11.7"
  }
 },
 "nbformat": 4,
 "nbformat_minor": 5
}
